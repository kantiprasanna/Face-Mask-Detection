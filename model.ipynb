{
  "nbformat": 4,
  "nbformat_minor": 0,
  "metadata": {
    "colab": {
      "name": "miniproject.ipynb",
      "provenance": [],
      "collapsed_sections": [],
      "toc_visible": true
    },
    "kernelspec": {
      "name": "python3",
      "display_name": "Python 3"
    }
  },
  "cells": [
    {
      "cell_type": "code",
      "metadata": {
        "id": "bjThgfN_7BCU",
        "colab_type": "code",
        "colab": {
          "base_uri": "https://localhost:8080/",
          "height": 121
        },
        "outputId": "e15597b6-1cf3-49c8-cd46-3807817e0765"
      },
      "source": [
        "from google.colab import drive\n",
        "drive.mount('/content/drive/')"
      ],
      "execution_count": 1,
      "outputs": [
        {
          "output_type": "stream",
          "text": [
            "Go to this URL in a browser: https://accounts.google.com/o/oauth2/auth?client_id=947318989803-6bn6qk8qdgf4n4g3pfee6491hc0brc4i.apps.googleusercontent.com&redirect_uri=urn%3aietf%3awg%3aoauth%3a2.0%3aoob&response_type=code&scope=email%20https%3a%2f%2fwww.googleapis.com%2fauth%2fdocs.test%20https%3a%2f%2fwww.googleapis.com%2fauth%2fdrive%20https%3a%2f%2fwww.googleapis.com%2fauth%2fdrive.photos.readonly%20https%3a%2f%2fwww.googleapis.com%2fauth%2fpeopleapi.readonly\n",
            "\n",
            "Enter your authorization code:\n",
            "··········\n",
            "Mounted at /content/drive/\n"
          ],
          "name": "stdout"
        }
      ]
    },
    {
      "cell_type": "markdown",
      "metadata": {
        "id": "ov57g92BlJHJ",
        "colab_type": "text"
      },
      "source": [
        "# **Training Face Mask Detection Model**"
      ]
    },
    {
      "cell_type": "code",
      "metadata": {
        "id": "K_2ddU0B8T2c",
        "colab_type": "code",
        "colab": {}
      },
      "source": [
        "!pip install -q keras"
      ],
      "execution_count": 2,
      "outputs": []
    },
    {
      "cell_type": "code",
      "metadata": {
        "id": "r5FEj_AJ8et9",
        "colab_type": "code",
        "colab": {
          "base_uri": "https://localhost:8080/",
          "height": 34
        },
        "outputId": "8247ee24-00bb-41c7-98de-7c09d8e04236"
      },
      "source": [
        "import keras"
      ],
      "execution_count": 3,
      "outputs": [
        {
          "output_type": "stream",
          "text": [
            "Using TensorFlow backend.\n"
          ],
          "name": "stderr"
        }
      ]
    },
    {
      "cell_type": "code",
      "metadata": {
        "id": "VgsdYk1N8iNk",
        "colab_type": "code",
        "colab": {}
      },
      "source": [
        "from tensorflow.keras.preprocessing.image import img_to_array, load_img, ImageDataGenerator\n",
        "from tensorflow.keras.layers import Input, Lambda, Dense, Flatten, Dropout\n",
        "from tensorflow.keras.models import Model\n",
        "from keras.models import Sequential\n",
        "import numpy as np\n",
        "from glob import glob\n",
        "import matplotlib.pyplot as plt\n",
        "%matplotlib inline\n",
        "import argparse\n",
        "import os\n",
        "from imutils import paths\n"
      ],
      "execution_count": 4,
      "outputs": []
    },
    {
      "cell_type": "code",
      "metadata": {
        "id": "e8_mUOwRNcsP",
        "colab_type": "code",
        "colab": {}
      },
      "source": [
        "import tensorflow"
      ],
      "execution_count": 5,
      "outputs": []
    },
    {
      "cell_type": "code",
      "metadata": {
        "id": "6XDQnD0IEh-Z",
        "colab_type": "code",
        "colab": {}
      },
      "source": [
        "trainImages = list(paths.list_images('/content/drive/My Drive/Colab Notebooks/cell/Train'))"
      ],
      "execution_count": 6,
      "outputs": []
    },
    {
      "cell_type": "code",
      "metadata": {
        "id": "NCgLau2FEiBR",
        "colab_type": "code",
        "colab": {}
      },
      "source": [
        "testImages = list(paths.list_images('/content/drive/My Drive/Colab Notebooks/cell/Test'))"
      ],
      "execution_count": 7,
      "outputs": []
    },
    {
      "cell_type": "code",
      "metadata": {
        "id": "uOjUGB1HxI-A",
        "colab_type": "code",
        "colab": {
          "base_uri": "https://localhost:8080/",
          "height": 50
        },
        "outputId": "dca815d3-f20d-4bfb-9a5e-4bc816c665ee"
      },
      "source": [
        "#importing images into file\n",
        "from tensorflow.keras.applications.mobilenet_v2 import preprocess_input\n",
        "train = []\n",
        "labels = []\n",
        "for i in trainImages: \n",
        "  label = i.split(os.path.sep)[-2]\n",
        "  img = load_img(i, target_size = (224, 224), interpolation = \"nearest\", color_mode = \"rgb\")\n",
        "  img = img_to_array(img)\n",
        "  img = preprocess_input(img)\n",
        "  train.append(img)\n",
        "  labels.append(label)\n"
      ],
      "execution_count": 8,
      "outputs": [
        {
          "output_type": "stream",
          "text": [
            "/usr/local/lib/python3.6/dist-packages/PIL/Image.py:932: UserWarning: Palette images with Transparency expressed in bytes should be converted to RGBA images\n",
            "  \"Palette images with Transparency expressed in bytes should be \"\n"
          ],
          "name": "stderr"
        }
      ]
    },
    {
      "cell_type": "code",
      "metadata": {
        "id": "UshvH6SK6rPe",
        "colab_type": "code",
        "colab": {}
      },
      "source": [
        "#Loading the images into numpy array\n",
        "train = np.array(train)\n",
        "labels = np.array(labels)"
      ],
      "execution_count": 9,
      "outputs": []
    },
    {
      "cell_type": "code",
      "metadata": {
        "id": "FQLYvrwsH7aG",
        "colab_type": "code",
        "colab": {}
      },
      "source": [
        "#Converting labels numpy array as a categorical data\n",
        "from sklearn.preprocessing import LabelBinarizer\n",
        "from keras.utils.np_utils import to_categorical   \n",
        "lb = LabelBinarizer()\n",
        "labels = lb.fit_transform(labels)\n",
        "labels = to_categorical(labels)"
      ],
      "execution_count": 10,
      "outputs": []
    },
    {
      "cell_type": "code",
      "metadata": {
        "id": "Vx5hEIB6ohrQ",
        "colab_type": "code",
        "colab": {}
      },
      "source": [
        "#Spliting the data into train and test datasets\n",
        "from sklearn.model_selection import train_test_split\n",
        "X_Train, X_Test, y_train, y_test = train_test_split(train, labels, train_size = 0.75, random_state = 40, stratify = labels)"
      ],
      "execution_count": 11,
      "outputs": []
    },
    {
      "cell_type": "code",
      "metadata": {
        "id": "n_XpaakRpYAQ",
        "colab_type": "code",
        "colab": {
          "base_uri": "https://localhost:8080/",
          "height": 34
        },
        "outputId": "c6594302-9be6-49fb-819a-1003e5a7ba17"
      },
      "source": [
        "print(X_Train.shape, X_Test.shape, y_train.shape, y_test.shape)"
      ],
      "execution_count": 12,
      "outputs": [
        {
          "output_type": "stream",
          "text": [
            "(3047, 224, 224, 3) (1016, 224, 224, 3) (3047, 2) (1016, 2)\n"
          ],
          "name": "stdout"
        }
      ]
    },
    {
      "cell_type": "code",
      "metadata": {
        "id": "vYlmIQl54sjn",
        "colab_type": "code",
        "colab": {}
      },
      "source": [
        "#Image Data Generator is used to generate different images from the train data while passing multiple times to model\n",
        "IDG = ImageDataGenerator(rotation_range = 50, width_shift_range = 0.5, height_shift_range = 0.5, horizontal_flip = True, vertical_flip = True, fill_mode = 'nearest')"
      ],
      "execution_count": 13,
      "outputs": []
    },
    {
      "cell_type": "code",
      "metadata": {
        "id": "x6Foi-hU5P3D",
        "colab_type": "code",
        "colab": {
          "base_uri": "https://localhost:8080/",
          "height": 67
        },
        "outputId": "5e5202fb-3e3f-4730-ee53-ff695fe293a9"
      },
      "source": [
        "#Input is passed to Mobilevnet2 algorithm to train the model\n",
        "from tensorflow.keras.applications import MobileNetV2\n",
        "base = MobileNetV2(alpha = 1.0, include_top = False, weights = 'imagenet',input_tensor = Input(shape = (224, 224, 3)), classes = 2)"
      ],
      "execution_count": 14,
      "outputs": [
        {
          "output_type": "stream",
          "text": [
            "WARNING:tensorflow:`input_shape` is undefined or non-square, or `rows` is not in [96, 128, 160, 192, 224]. Weights for input shape (224, 224) will be loaded as the default.\n",
            "Downloading data from https://storage.googleapis.com/tensorflow/keras-applications/mobilenet_v2/mobilenet_v2_weights_tf_dim_ordering_tf_kernels_1.0_224_no_top.h5\n",
            "9412608/9406464 [==============================] - 0s 0us/step\n"
          ],
          "name": "stdout"
        }
      ]
    },
    {
      "cell_type": "code",
      "metadata": {
        "id": "chH4WiurLwSx",
        "colab_type": "code",
        "colab": {}
      },
      "source": [
        "#Second layer of the model is being given layers to train\n",
        "finalModel = base.output\n",
        "from tensorflow.keras.layers import AveragePooling2D, Dropout, Flatten, Dense\n",
        "finalModel = AveragePooling2D(pool_size=(7, 7))(finalModel)\n",
        "finalModel = Flatten(name = \"flatten\")(finalModel)\n",
        "finalModel = Dense(128, activation = \"relu\")(finalModel)\n",
        "finalModel = Dropout(0.5)(finalModel)\n",
        "finalModel = Dense(2, activation = \"softmax\")(finalModel)"
      ],
      "execution_count": 15,
      "outputs": []
    },
    {
      "cell_type": "code",
      "metadata": {
        "id": "-GzWQX68_zFH",
        "colab_type": "code",
        "colab": {}
      },
      "source": [
        "#Adding first layer and second layer of the models\n",
        "model = Model(inputs = base.input, outputs = finalModel)"
      ],
      "execution_count": 16,
      "outputs": []
    },
    {
      "cell_type": "code",
      "metadata": {
        "id": "-Q7_M2guAJis",
        "colab_type": "code",
        "colab": {}
      },
      "source": [
        "#Making the base layers as non trainable\n",
        "for layers in base.layers:\n",
        "  layers.trainable = False"
      ],
      "execution_count": 17,
      "outputs": []
    },
    {
      "cell_type": "code",
      "metadata": {
        "id": "1OLeJ519AQI-",
        "colab_type": "code",
        "colab": {}
      },
      "source": [
        "#Setting learning rate, epochs (the number of times the data is passed to model), and batch size\n",
        "INIT_LR = 1e-4\n",
        "EPOCHS = 40\n",
        "BS = 32\n",
        "#Adamax is a optimizer which is used to optimize the model\n",
        "from tensorflow.keras.optimizers import Adamax\n",
        "model.compile(loss = \"categorical_crossentropy\", optimizer = Adamax(lr = INIT_LR, decay = INIT_LR // EPOCHS), metrics = [\"accuracy\"])\n"
      ],
      "execution_count": 18,
      "outputs": []
    },
    {
      "cell_type": "code",
      "metadata": {
        "id": "7gzaWCJ3CoNT",
        "colab_type": "code",
        "colab": {
          "base_uri": "https://localhost:8080/",
          "height": 1000
        },
        "outputId": "f4fee8d1-a1f1-4b67-9d82-a4d4ca1c50d5"
      },
      "source": [
        "#Fitting the main model on the train data\n",
        "main = model.fit(IDG.flow(X_Train, y_train, batch_size = BS), validation_data = (X_Test, y_test), validation_steps = len(X_Test) // BS, epochs = EPOCHS, steps_per_epoch = len(X_Train) // BS)"
      ],
      "execution_count": 19,
      "outputs": [
        {
          "output_type": "stream",
          "text": [
            "Epoch 1/40\n",
            "95/95 [==============================] - 139s 1s/step - loss: 0.6835 - accuracy: 0.6441 - val_loss: 0.4032 - val_accuracy: 0.8622\n",
            "Epoch 2/40\n",
            "95/95 [==============================] - 138s 1s/step - loss: 0.5063 - accuracy: 0.7549 - val_loss: 0.2972 - val_accuracy: 0.9272\n",
            "Epoch 3/40\n",
            "95/95 [==============================] - 137s 1s/step - loss: 0.4217 - accuracy: 0.8109 - val_loss: 0.2255 - val_accuracy: 0.9587\n",
            "Epoch 4/40\n",
            "95/95 [==============================] - 138s 1s/step - loss: 0.3703 - accuracy: 0.8368 - val_loss: 0.1906 - val_accuracy: 0.9656\n",
            "Epoch 5/40\n",
            "95/95 [==============================] - 138s 1s/step - loss: 0.3435 - accuracy: 0.8491 - val_loss: 0.1680 - val_accuracy: 0.9705\n",
            "Epoch 6/40\n",
            "95/95 [==============================] - 137s 1s/step - loss: 0.3303 - accuracy: 0.8624 - val_loss: 0.1479 - val_accuracy: 0.9705\n",
            "Epoch 7/40\n",
            "95/95 [==============================] - 138s 1s/step - loss: 0.3025 - accuracy: 0.8760 - val_loss: 0.1332 - val_accuracy: 0.9724\n",
            "Epoch 8/40\n",
            "95/95 [==============================] - 137s 1s/step - loss: 0.3101 - accuracy: 0.8730 - val_loss: 0.1340 - val_accuracy: 0.9734\n",
            "Epoch 9/40\n",
            "95/95 [==============================] - 139s 1s/step - loss: 0.2897 - accuracy: 0.8839 - val_loss: 0.1206 - val_accuracy: 0.9764\n",
            "Epoch 10/40\n",
            "95/95 [==============================] - 138s 1s/step - loss: 0.2581 - accuracy: 0.9025 - val_loss: 0.1166 - val_accuracy: 0.9754\n",
            "Epoch 11/40\n",
            "95/95 [==============================] - 137s 1s/step - loss: 0.2490 - accuracy: 0.8995 - val_loss: 0.1053 - val_accuracy: 0.9783\n",
            "Epoch 12/40\n",
            "95/95 [==============================] - 137s 1s/step - loss: 0.2672 - accuracy: 0.8978 - val_loss: 0.1024 - val_accuracy: 0.9774\n",
            "Epoch 13/40\n",
            "95/95 [==============================] - 139s 1s/step - loss: 0.2717 - accuracy: 0.8882 - val_loss: 0.1028 - val_accuracy: 0.9803\n",
            "Epoch 14/40\n",
            "95/95 [==============================] - 138s 1s/step - loss: 0.2459 - accuracy: 0.9018 - val_loss: 0.1008 - val_accuracy: 0.9803\n",
            "Epoch 15/40\n",
            "95/95 [==============================] - 137s 1s/step - loss: 0.2588 - accuracy: 0.8939 - val_loss: 0.0947 - val_accuracy: 0.9774\n",
            "Epoch 16/40\n",
            "95/95 [==============================] - 138s 1s/step - loss: 0.2305 - accuracy: 0.9078 - val_loss: 0.0912 - val_accuracy: 0.9793\n",
            "Epoch 17/40\n",
            "95/95 [==============================] - 137s 1s/step - loss: 0.2215 - accuracy: 0.9191 - val_loss: 0.0939 - val_accuracy: 0.9803\n",
            "Epoch 18/40\n",
            "95/95 [==============================] - 139s 1s/step - loss: 0.2227 - accuracy: 0.9085 - val_loss: 0.0861 - val_accuracy: 0.9793\n",
            "Epoch 19/40\n",
            "95/95 [==============================] - 137s 1s/step - loss: 0.2337 - accuracy: 0.9095 - val_loss: 0.0872 - val_accuracy: 0.9813\n",
            "Epoch 20/40\n",
            "95/95 [==============================] - 137s 1s/step - loss: 0.1970 - accuracy: 0.9201 - val_loss: 0.0810 - val_accuracy: 0.9803\n",
            "Epoch 21/40\n",
            "95/95 [==============================] - 137s 1s/step - loss: 0.2137 - accuracy: 0.9177 - val_loss: 0.0830 - val_accuracy: 0.9803\n",
            "Epoch 22/40\n",
            "95/95 [==============================] - 138s 1s/step - loss: 0.2231 - accuracy: 0.9091 - val_loss: 0.0803 - val_accuracy: 0.9823\n",
            "Epoch 23/40\n",
            "95/95 [==============================] - 136s 1s/step - loss: 0.2137 - accuracy: 0.9211 - val_loss: 0.0799 - val_accuracy: 0.9823\n",
            "Epoch 24/40\n",
            "95/95 [==============================] - 137s 1s/step - loss: 0.2253 - accuracy: 0.9128 - val_loss: 0.0788 - val_accuracy: 0.9813\n",
            "Epoch 25/40\n",
            "95/95 [==============================] - 137s 1s/step - loss: 0.2178 - accuracy: 0.9144 - val_loss: 0.0806 - val_accuracy: 0.9803\n",
            "Epoch 26/40\n",
            "95/95 [==============================] - 136s 1s/step - loss: 0.1997 - accuracy: 0.9221 - val_loss: 0.0788 - val_accuracy: 0.9803\n",
            "Epoch 27/40\n",
            "95/95 [==============================] - 139s 1s/step - loss: 0.1876 - accuracy: 0.9221 - val_loss: 0.0769 - val_accuracy: 0.9803\n",
            "Epoch 28/40\n",
            "95/95 [==============================] - 137s 1s/step - loss: 0.1918 - accuracy: 0.9237 - val_loss: 0.0734 - val_accuracy: 0.9833\n",
            "Epoch 29/40\n",
            "95/95 [==============================] - 137s 1s/step - loss: 0.1831 - accuracy: 0.9264 - val_loss: 0.0711 - val_accuracy: 0.9823\n",
            "Epoch 30/40\n",
            "95/95 [==============================] - 137s 1s/step - loss: 0.1958 - accuracy: 0.9260 - val_loss: 0.0697 - val_accuracy: 0.9833\n",
            "Epoch 31/40\n",
            "95/95 [==============================] - 138s 1s/step - loss: 0.1894 - accuracy: 0.9277 - val_loss: 0.0734 - val_accuracy: 0.9813\n",
            "Epoch 32/40\n",
            "95/95 [==============================] - 137s 1s/step - loss: 0.1833 - accuracy: 0.9300 - val_loss: 0.0728 - val_accuracy: 0.9813\n",
            "Epoch 33/40\n",
            "95/95 [==============================] - 137s 1s/step - loss: 0.1891 - accuracy: 0.9303 - val_loss: 0.0698 - val_accuracy: 0.9823\n",
            "Epoch 34/40\n",
            "95/95 [==============================] - 137s 1s/step - loss: 0.1886 - accuracy: 0.9260 - val_loss: 0.0714 - val_accuracy: 0.9813\n",
            "Epoch 35/40\n",
            "95/95 [==============================] - 137s 1s/step - loss: 0.1691 - accuracy: 0.9337 - val_loss: 0.0690 - val_accuracy: 0.9813\n",
            "Epoch 36/40\n",
            "95/95 [==============================] - 139s 1s/step - loss: 0.1800 - accuracy: 0.9320 - val_loss: 0.0732 - val_accuracy: 0.9793\n",
            "Epoch 37/40\n",
            "95/95 [==============================] - 137s 1s/step - loss: 0.1832 - accuracy: 0.9257 - val_loss: 0.0715 - val_accuracy: 0.9813\n",
            "Epoch 38/40\n",
            "95/95 [==============================] - 137s 1s/step - loss: 0.1729 - accuracy: 0.9360 - val_loss: 0.0716 - val_accuracy: 0.9803\n",
            "Epoch 39/40\n",
            "95/95 [==============================] - 139s 1s/step - loss: 0.1786 - accuracy: 0.9327 - val_loss: 0.0679 - val_accuracy: 0.9823\n",
            "Epoch 40/40\n",
            "95/95 [==============================] - 138s 1s/step - loss: 0.1872 - accuracy: 0.9287 - val_loss: 0.0692 - val_accuracy: 0.9813\n"
          ],
          "name": "stdout"
        }
      ]
    },
    {
      "cell_type": "code",
      "metadata": {
        "id": "gmm0mbNoPf82",
        "colab_type": "code",
        "colab": {}
      },
      "source": [
        "#Predicting the output on test data from the trained model\n",
        "y_pred = model.predict(x = X_Test, batch_size = BS)"
      ],
      "execution_count": 20,
      "outputs": []
    },
    {
      "cell_type": "code",
      "metadata": {
        "id": "oHt45dTr9JnK",
        "colab_type": "code",
        "colab": {}
      },
      "source": [
        "#Setting the value as maximum that is depending on the percentage of mask present predicting it as mask present or not present\n",
        "y_pred = np.argmax(y_pred, axis=1)"
      ],
      "execution_count": 21,
      "outputs": []
    },
    {
      "cell_type": "code",
      "metadata": {
        "id": "Ttlu5-3nCbrG",
        "colab_type": "code",
        "colab": {}
      },
      "source": [
        "#Setting the value as maximum that is depending on the percentage of mask present predicting it as mask present or not present\n",
        "y_test = y_test.argmax(axis = 1)"
      ],
      "execution_count": 22,
      "outputs": []
    },
    {
      "cell_type": "code",
      "metadata": {
        "id": "6RjRRcTQCmO8",
        "colab_type": "code",
        "colab": {}
      },
      "source": [
        "#Predicting accuracy\n",
        "from sklearn.metrics import r2_score\n",
        "r_squared = r2_score(y_test, y_pred)"
      ],
      "execution_count": 23,
      "outputs": []
    },
    {
      "cell_type": "code",
      "metadata": {
        "id": "uPAZETMJC0XW",
        "colab_type": "code",
        "colab": {
          "base_uri": "https://localhost:8080/",
          "height": 34
        },
        "outputId": "7b0779da-61b6-44d7-8452-9c540e417d30"
      },
      "source": [
        "print(r_squared)"
      ],
      "execution_count": 24,
      "outputs": [
        {
          "output_type": "stream",
          "text": [
            "0.9251782945736434\n"
          ],
          "name": "stdout"
        }
      ]
    },
    {
      "cell_type": "code",
      "metadata": {
        "id": "D-NK1MiGFU2h",
        "colab_type": "code",
        "colab": {}
      },
      "source": [
        "#Saving the model\n",
        "model.save('finalver.h5')"
      ],
      "execution_count": 25,
      "outputs": []
    },
    {
      "cell_type": "code",
      "metadata": {
        "id": "x8HLv5UYIkWc",
        "colab_type": "code",
        "colab": {}
      },
      "source": [
        ""
      ],
      "execution_count": 25,
      "outputs": []
    }
  ]
}