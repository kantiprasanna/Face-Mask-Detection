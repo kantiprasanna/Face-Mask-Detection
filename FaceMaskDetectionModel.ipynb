{
  "nbformat": 4,
  "nbformat_minor": 0,
  "metadata": {
    "colab": {
      "name": "miniproject.ipynb",
      "provenance": [],
      "collapsed_sections": []
    },
    "kernelspec": {
      "name": "python3",
      "display_name": "Python 3"
    }
  },
  "cells": [
    {
      "cell_type": "code",
      "metadata": {
        "id": "bjThgfN_7BCU",
        "colab_type": "code",
        "colab": {
          "base_uri": "https://localhost:8080/",
          "height": 34
        },
        "outputId": "ffe59886-e652-4b14-cb13-79bf04df7524"
      },
      "source": [
        "from google.colab import drive\n",
        "drive.mount('/content/drive/')"
      ],
      "execution_count": 1,
      "outputs": [
        {
          "output_type": "stream",
          "text": [
            "Drive already mounted at /content/drive/; to attempt to forcibly remount, call drive.mount(\"/content/drive/\", force_remount=True).\n"
          ],
          "name": "stdout"
        }
      ]
    },
    {
      "cell_type": "code",
      "metadata": {
        "id": "K_2ddU0B8T2c",
        "colab_type": "code",
        "colab": {}
      },
      "source": [
        "!pip install -q keras"
      ],
      "execution_count": 2,
      "outputs": []
    },
    {
      "cell_type": "code",
      "metadata": {
        "id": "r5FEj_AJ8et9",
        "colab_type": "code",
        "colab": {
          "base_uri": "https://localhost:8080/",
          "height": 34
        },
        "outputId": "c3b2fb8c-fdcd-468e-84d3-33ed2e9abca9"
      },
      "source": [
        "import keras"
      ],
      "execution_count": 3,
      "outputs": [
        {
          "output_type": "stream",
          "text": [
            "Using TensorFlow backend.\n"
          ],
          "name": "stderr"
        }
      ]
    },
    {
      "cell_type": "code",
      "metadata": {
        "id": "VgsdYk1N8iNk",
        "colab_type": "code",
        "colab": {}
      },
      "source": [
        "from tensorflow.keras.preprocessing.image import img_to_array, load_img, ImageDataGenerator\n",
        "from tensorflow.keras.layers import Input, Lambda, Dense, Flatten, Dropout\n",
        "from tensorflow.keras.models import Model\n",
        "from keras.models import Sequential\n",
        "import numpy as np\n",
        "from glob import glob\n",
        "import matplotlib.pyplot as plt\n",
        "%matplotlib inline\n",
        "import argparse\n",
        "import os\n",
        "from imutils import paths\n",
        "\n",
        "IMAGE_SIZE = [224,224]\n",
        "\n",
        "test_path = '/content/drive/My Drive/Colab Notebooks/cell/Test'\n",
        "train_path = '/content/drive/My Drive/Colab Notebooks/cell/Train'\n"
      ],
      "execution_count": 4,
      "outputs": []
    },
    {
      "cell_type": "code",
      "metadata": {
        "id": "e8_mUOwRNcsP",
        "colab_type": "code",
        "colab": {}
      },
      "source": [
        "import tensorflow"
      ],
      "execution_count": 5,
      "outputs": []
    },
    {
      "cell_type": "code",
      "metadata": {
        "id": "eOkUSuAH_4e0",
        "colab_type": "code",
        "colab": {}
      },
      "source": [
        "#setting the images into same size \n",
        "train_datagen = ImageDataGenerator(rescale = 1./255,shear_range=0.2,zoom_range=0.2,horizontal_flip=True)"
      ],
      "execution_count": 6,
      "outputs": []
    },
    {
      "cell_type": "code",
      "metadata": {
        "id": "rkfnRUDjEaTJ",
        "colab_type": "code",
        "colab": {}
      },
      "source": [
        "test_datagen = ImageDataGenerator(rescale = 1./255)"
      ],
      "execution_count": 7,
      "outputs": []
    },
    {
      "cell_type": "code",
      "metadata": {
        "id": "C8dTeZ4BEh4O",
        "colab_type": "code",
        "colab": {
          "base_uri": "https://localhost:8080/",
          "height": 34
        },
        "outputId": "926fa583-30f5-4d9e-ec09-6dd8839e2a4c"
      },
      "source": [
        "training_set = train_datagen.flow_from_directory('/content/drive/My Drive/Colab Notebooks/cell/Train',target_size=(244,244),batch_size=32,class_mode='categorical')"
      ],
      "execution_count": 8,
      "outputs": [
        {
          "output_type": "stream",
          "text": [
            "Found 3833 images belonging to 2 classes.\n"
          ],
          "name": "stdout"
        }
      ]
    },
    {
      "cell_type": "code",
      "metadata": {
        "id": "LOFtvxYxEh7G",
        "colab_type": "code",
        "colab": {
          "base_uri": "https://localhost:8080/",
          "height": 34
        },
        "outputId": "0e772d93-3c1a-4358-9fe9-2eb0363c0cb7"
      },
      "source": [
        "test_set = test_datagen.flow_from_directory('/content/drive/My Drive/Colab Notebooks/cell/Test',target_size=(244,244),batch_size=32,class_mode='categorical')"
      ],
      "execution_count": 9,
      "outputs": [
        {
          "output_type": "stream",
          "text": [
            "Found 977 images belonging to 2 classes.\n"
          ],
          "name": "stdout"
        }
      ]
    },
    {
      "cell_type": "code",
      "metadata": {
        "id": "6XDQnD0IEh-Z",
        "colab_type": "code",
        "colab": {}
      },
      "source": [
        "trainImages = list(paths.list_images('/content/drive/My Drive/Colab Notebooks/cell/Train'))"
      ],
      "execution_count": 10,
      "outputs": []
    },
    {
      "cell_type": "code",
      "metadata": {
        "id": "NCgLau2FEiBR",
        "colab_type": "code",
        "colab": {}
      },
      "source": [
        "testImages = list(paths.list_images('/content/drive/My Drive/Colab Notebooks/cell/Test'))"
      ],
      "execution_count": 11,
      "outputs": []
    },
    {
      "cell_type": "code",
      "metadata": {
        "id": "uOjUGB1HxI-A",
        "colab_type": "code",
        "colab": {
          "base_uri": "https://localhost:8080/",
          "height": 50
        },
        "outputId": "22871ca1-502e-4862-cf9e-1dd28b1040e5"
      },
      "source": [
        "#importing images into file\n",
        "from tensorflow.keras.applications.mobilenet_v2 import preprocess_input\n",
        "train = []\n",
        "labels = []\n",
        "for i in trainImages: \n",
        "  label = i.split(os.path.sep)[-2]\n",
        "  img = load_img(i, target_size = (244, 244), interpolation = \"nearest\", color_mode = \"rgb\")\n",
        "  img = img_to_array(img)\n",
        "  img = preprocess_input(img)\n",
        "  train.append(img)\n",
        "  labels.append(label)\n"
      ],
      "execution_count": 12,
      "outputs": [
        {
          "output_type": "stream",
          "text": [
            "/usr/local/lib/python3.6/dist-packages/PIL/Image.py:932: UserWarning: Palette images with Transparency expressed in bytes should be converted to RGBA images\n",
            "  \"Palette images with Transparency expressed in bytes should be \"\n"
          ],
          "name": "stderr"
        }
      ]
    },
    {
      "cell_type": "code",
      "metadata": {
        "id": "UshvH6SK6rPe",
        "colab_type": "code",
        "colab": {}
      },
      "source": [
        "train = np.array(train)\n",
        "labels = np.array(labels)"
      ],
      "execution_count": 13,
      "outputs": []
    },
    {
      "cell_type": "code",
      "metadata": {
        "id": "FQLYvrwsH7aG",
        "colab_type": "code",
        "colab": {}
      },
      "source": [
        "from sklearn.preprocessing import LabelBinarizer\n",
        "from keras.utils.np_utils import to_categorical   \n",
        "lb = LabelBinarizer()\n",
        "labels = lb.fit_transform(labels)\n",
        "labels = to_categorical(labels)"
      ],
      "execution_count": 14,
      "outputs": []
    },
    {
      "cell_type": "code",
      "metadata": {
        "id": "Vx5hEIB6ohrQ",
        "colab_type": "code",
        "colab": {}
      },
      "source": [
        "from sklearn.model_selection import train_test_split\n",
        "X_Train, X_Test, y_train, y_test = train_test_split(train, labels, train_size = 0.75, random_state = 40, stratify = labels)"
      ],
      "execution_count": 15,
      "outputs": []
    },
    {
      "cell_type": "code",
      "metadata": {
        "id": "n_XpaakRpYAQ",
        "colab_type": "code",
        "colab": {
          "base_uri": "https://localhost:8080/",
          "height": 34
        },
        "outputId": "f273ca40-b91a-4846-fbf5-267acb23c12f"
      },
      "source": [
        "print(X_Train.shape, X_Test.shape, y_train.shape, y_test.shape)"
      ],
      "execution_count": 16,
      "outputs": [
        {
          "output_type": "stream",
          "text": [
            "(2874, 244, 244, 3) (959, 244, 244, 3) (2874, 2) (959, 2)\n"
          ],
          "name": "stdout"
        }
      ]
    },
    {
      "cell_type": "code",
      "metadata": {
        "id": "vYlmIQl54sjn",
        "colab_type": "code",
        "colab": {}
      },
      "source": [
        "IDG = ImageDataGenerator(rotation_range = 50, width_shift_range = 0.5, height_shift_range = 0.5, horizontal_flip = True, vertical_flip = True, fill_mode = 'nearest')"
      ],
      "execution_count": 17,
      "outputs": []
    },
    {
      "cell_type": "code",
      "metadata": {
        "id": "x6Foi-hU5P3D",
        "colab_type": "code",
        "colab": {
          "base_uri": "https://localhost:8080/",
          "height": 67
        },
        "outputId": "5630536a-d2df-4438-f80d-f639fcdd189f"
      },
      "source": [
        "from tensorflow.keras.applications import MobileNetV2\n",
        "base = MobileNetV2(alpha = 1.0, include_top = False, weights = 'imagenet',input_tensor = Input(shape = (224, 224, 3)), classes = 2)"
      ],
      "execution_count": 18,
      "outputs": [
        {
          "output_type": "stream",
          "text": [
            "WARNING:tensorflow:`input_shape` is undefined or non-square, or `rows` is not in [96, 128, 160, 192, 224]. Weights for input shape (224, 224) will be loaded as the default.\n",
            "Downloading data from https://storage.googleapis.com/tensorflow/keras-applications/mobilenet_v2/mobilenet_v2_weights_tf_dim_ordering_tf_kernels_1.0_224_no_top.h5\n",
            "9412608/9406464 [==============================] - 0s 0us/step\n"
          ],
          "name": "stdout"
        }
      ]
    },
    {
      "cell_type": "code",
      "metadata": {
        "id": "chH4WiurLwSx",
        "colab_type": "code",
        "colab": {}
      },
      "source": [
        "finalModel = base.output\n",
        "from tensorflow.keras.layers import AveragePooling2D, Dropout, Flatten, Dense\n",
        "finalModel = AveragePooling2D(pool_size=(7, 7))(finalModel)\n",
        "finalModel = Flatten(name = \"flatten\")(finalModel)\n",
        "finalModel = Dense(128, activation = \"relu\")(finalModel)\n",
        "finalModel = Dropout(0.5)(finalModel)\n",
        "finalModel = Dense(2, activation = \"softmax\")(finalModel)"
      ],
      "execution_count": 19,
      "outputs": []
    },
    {
      "cell_type": "code",
      "metadata": {
        "id": "-GzWQX68_zFH",
        "colab_type": "code",
        "colab": {}
      },
      "source": [
        "model = Model(inputs = base.input, outputs = finalModel)"
      ],
      "execution_count": 20,
      "outputs": []
    },
    {
      "cell_type": "code",
      "metadata": {
        "id": "-Q7_M2guAJis",
        "colab_type": "code",
        "colab": {}
      },
      "source": [
        "for layers in base.layers:\n",
        "  layers.trainable = False"
      ],
      "execution_count": 21,
      "outputs": []
    },
    {
      "cell_type": "code",
      "metadata": {
        "id": "1OLeJ519AQI-",
        "colab_type": "code",
        "colab": {}
      },
      "source": [
        "INIT_LR = 1e-4\n",
        "EPOCHS = 40\n",
        "BS = 32\n",
        "from tensorflow.keras.optimizers import Adamax\n",
        "model.compile(loss = \"categorical_crossentropy\", optimizer = Adamax(lr = INIT_LR, decay = INIT_LR // EPOCHS), metrics = [\"accuracy\"])\n"
      ],
      "execution_count": 22,
      "outputs": []
    },
    {
      "cell_type": "code",
      "metadata": {
        "id": "7gzaWCJ3CoNT",
        "colab_type": "code",
        "colab": {
          "base_uri": "https://localhost:8080/",
          "height": 1000
        },
        "outputId": "aed8b440-4172-4bbb-c7d2-99c9aaaf523c"
      },
      "source": [
        "main = model.fit(IDG.flow(X_Train, y_train, batch_size = BS), validation_data = (X_Test, y_test), validation_steps = len(X_Test) // BS, epochs = EPOCHS, steps_per_epoch = len(X_Train) // BS)"
      ],
      "execution_count": 23,
      "outputs": [
        {
          "output_type": "stream",
          "text": [
            "Epoch 1/40\n",
            "89/89 [==============================] - ETA: 0s - loss: 0.6737 - accuracy: 0.6358WARNING:tensorflow:Model was constructed with shape (None, 224, 224, 3) for input Tensor(\"input_1:0\", shape=(None, 224, 224, 3), dtype=float32), but it was called on an input with incompatible shape (None, 244, 244, 3).\n",
            "89/89 [==============================] - 177s 2s/step - loss: 0.6737 - accuracy: 0.6358 - val_loss: 0.4710 - val_accuracy: 0.8269\n",
            "Epoch 2/40\n",
            "89/89 [==============================] - 176s 2s/step - loss: 0.4818 - accuracy: 0.7685 - val_loss: 0.3313 - val_accuracy: 0.9176\n",
            "Epoch 3/40\n",
            "89/89 [==============================] - 176s 2s/step - loss: 0.4115 - accuracy: 0.8100 - val_loss: 0.2646 - val_accuracy: 0.9364\n",
            "Epoch 4/40\n",
            "89/89 [==============================] - 177s 2s/step - loss: 0.3387 - accuracy: 0.8522 - val_loss: 0.2161 - val_accuracy: 0.9437\n",
            "Epoch 5/40\n",
            "89/89 [==============================] - 175s 2s/step - loss: 0.3078 - accuracy: 0.8765 - val_loss: 0.1829 - val_accuracy: 0.9531\n",
            "Epoch 6/40\n",
            "89/89 [==============================] - 175s 2s/step - loss: 0.2921 - accuracy: 0.8790 - val_loss: 0.1606 - val_accuracy: 0.9593\n",
            "Epoch 7/40\n",
            "89/89 [==============================] - 177s 2s/step - loss: 0.2859 - accuracy: 0.8878 - val_loss: 0.1470 - val_accuracy: 0.9625\n",
            "Epoch 8/40\n",
            "89/89 [==============================] - 176s 2s/step - loss: 0.2697 - accuracy: 0.8913 - val_loss: 0.1356 - val_accuracy: 0.9645\n",
            "Epoch 9/40\n",
            "89/89 [==============================] - 176s 2s/step - loss: 0.2465 - accuracy: 0.9015 - val_loss: 0.1256 - val_accuracy: 0.9635\n",
            "Epoch 10/40\n",
            "89/89 [==============================] - 175s 2s/step - loss: 0.2408 - accuracy: 0.9103 - val_loss: 0.1187 - val_accuracy: 0.9635\n",
            "Epoch 11/40\n",
            "89/89 [==============================] - 177s 2s/step - loss: 0.2330 - accuracy: 0.9078 - val_loss: 0.1123 - val_accuracy: 0.9656\n",
            "Epoch 12/40\n",
            "89/89 [==============================] - 174s 2s/step - loss: 0.2019 - accuracy: 0.9289 - val_loss: 0.1079 - val_accuracy: 0.9666\n",
            "Epoch 13/40\n",
            "89/89 [==============================] - 172s 2s/step - loss: 0.2132 - accuracy: 0.9205 - val_loss: 0.1037 - val_accuracy: 0.9656\n",
            "Epoch 14/40\n",
            "89/89 [==============================] - 175s 2s/step - loss: 0.1944 - accuracy: 0.9251 - val_loss: 0.1014 - val_accuracy: 0.9687\n",
            "Epoch 15/40\n",
            "89/89 [==============================] - 174s 2s/step - loss: 0.1846 - accuracy: 0.9268 - val_loss: 0.0978 - val_accuracy: 0.9677\n",
            "Epoch 16/40\n",
            "89/89 [==============================] - 174s 2s/step - loss: 0.1934 - accuracy: 0.9258 - val_loss: 0.0972 - val_accuracy: 0.9677\n",
            "Epoch 17/40\n",
            "89/89 [==============================] - 175s 2s/step - loss: 0.2007 - accuracy: 0.9243 - val_loss: 0.0934 - val_accuracy: 0.9677\n",
            "Epoch 18/40\n",
            "89/89 [==============================] - 176s 2s/step - loss: 0.1932 - accuracy: 0.9236 - val_loss: 0.0926 - val_accuracy: 0.9698\n",
            "Epoch 19/40\n",
            "89/89 [==============================] - 175s 2s/step - loss: 0.1942 - accuracy: 0.9229 - val_loss: 0.0906 - val_accuracy: 0.9677\n",
            "Epoch 20/40\n",
            "89/89 [==============================] - 175s 2s/step - loss: 0.1793 - accuracy: 0.9317 - val_loss: 0.0884 - val_accuracy: 0.9687\n",
            "Epoch 21/40\n",
            "89/89 [==============================] - 177s 2s/step - loss: 0.1816 - accuracy: 0.9243 - val_loss: 0.0878 - val_accuracy: 0.9708\n",
            "Epoch 22/40\n",
            "89/89 [==============================] - 175s 2s/step - loss: 0.1708 - accuracy: 0.9324 - val_loss: 0.0853 - val_accuracy: 0.9698\n",
            "Epoch 23/40\n",
            "89/89 [==============================] - 174s 2s/step - loss: 0.1651 - accuracy: 0.9363 - val_loss: 0.0838 - val_accuracy: 0.9698\n",
            "Epoch 24/40\n",
            "89/89 [==============================] - 175s 2s/step - loss: 0.1676 - accuracy: 0.9335 - val_loss: 0.0854 - val_accuracy: 0.9729\n",
            "Epoch 25/40\n",
            "89/89 [==============================] - 174s 2s/step - loss: 0.1700 - accuracy: 0.9374 - val_loss: 0.0823 - val_accuracy: 0.9708\n",
            "Epoch 26/40\n",
            "89/89 [==============================] - 174s 2s/step - loss: 0.1650 - accuracy: 0.9363 - val_loss: 0.0811 - val_accuracy: 0.9708\n",
            "Epoch 27/40\n",
            "89/89 [==============================] - 175s 2s/step - loss: 0.1553 - accuracy: 0.9416 - val_loss: 0.0811 - val_accuracy: 0.9718\n",
            "Epoch 28/40\n",
            "89/89 [==============================] - 175s 2s/step - loss: 0.1642 - accuracy: 0.9388 - val_loss: 0.0786 - val_accuracy: 0.9718\n",
            "Epoch 29/40\n",
            "89/89 [==============================] - 174s 2s/step - loss: 0.1698 - accuracy: 0.9328 - val_loss: 0.0791 - val_accuracy: 0.9708\n",
            "Epoch 30/40\n",
            "89/89 [==============================] - 174s 2s/step - loss: 0.1486 - accuracy: 0.9388 - val_loss: 0.0790 - val_accuracy: 0.9718\n",
            "Epoch 31/40\n",
            "89/89 [==============================] - 175s 2s/step - loss: 0.1608 - accuracy: 0.9381 - val_loss: 0.0774 - val_accuracy: 0.9718\n",
            "Epoch 32/40\n",
            "89/89 [==============================] - 174s 2s/step - loss: 0.1637 - accuracy: 0.9374 - val_loss: 0.0779 - val_accuracy: 0.9718\n",
            "Epoch 33/40\n",
            "89/89 [==============================] - 173s 2s/step - loss: 0.1454 - accuracy: 0.9430 - val_loss: 0.0746 - val_accuracy: 0.9729\n",
            "Epoch 34/40\n",
            "89/89 [==============================] - 173s 2s/step - loss: 0.1524 - accuracy: 0.9393 - val_loss: 0.0765 - val_accuracy: 0.9729\n",
            "Epoch 35/40\n",
            "89/89 [==============================] - 174s 2s/step - loss: 0.1501 - accuracy: 0.9444 - val_loss: 0.0739 - val_accuracy: 0.9739\n",
            "Epoch 36/40\n",
            "89/89 [==============================] - 173s 2s/step - loss: 0.1467 - accuracy: 0.9416 - val_loss: 0.0757 - val_accuracy: 0.9750\n",
            "Epoch 37/40\n",
            "89/89 [==============================] - 173s 2s/step - loss: 0.1588 - accuracy: 0.9381 - val_loss: 0.0742 - val_accuracy: 0.9739\n",
            "Epoch 38/40\n",
            "89/89 [==============================] - 175s 2s/step - loss: 0.1433 - accuracy: 0.9448 - val_loss: 0.0735 - val_accuracy: 0.9739\n",
            "Epoch 39/40\n",
            "89/89 [==============================] - 173s 2s/step - loss: 0.1466 - accuracy: 0.9448 - val_loss: 0.0740 - val_accuracy: 0.9739\n",
            "Epoch 40/40\n",
            "89/89 [==============================] - 174s 2s/step - loss: 0.1543 - accuracy: 0.9426 - val_loss: 0.0718 - val_accuracy: 0.9739\n"
          ],
          "name": "stdout"
        }
      ]
    },
    {
      "cell_type": "code",
      "metadata": {
        "id": "gmm0mbNoPf82",
        "colab_type": "code",
        "colab": {
          "base_uri": "https://localhost:8080/",
          "height": 54
        },
        "outputId": "38a57c75-01cb-47f4-f2b0-b439205601d1"
      },
      "source": [
        "y_pred = model.predict(x = X_Test, batch_size = BS)"
      ],
      "execution_count": 24,
      "outputs": [
        {
          "output_type": "stream",
          "text": [
            "WARNING:tensorflow:Model was constructed with shape (None, 224, 224, 3) for input Tensor(\"input_1:0\", shape=(None, 224, 224, 3), dtype=float32), but it was called on an input with incompatible shape (None, 244, 244, 3).\n"
          ],
          "name": "stdout"
        }
      ]
    },
    {
      "cell_type": "code",
      "metadata": {
        "id": "oHt45dTr9JnK",
        "colab_type": "code",
        "colab": {}
      },
      "source": [
        "y_pred = np.argmax(y_pred, axis=1)"
      ],
      "execution_count": 25,
      "outputs": []
    },
    {
      "cell_type": "code",
      "metadata": {
        "id": "Ttlu5-3nCbrG",
        "colab_type": "code",
        "colab": {}
      },
      "source": [
        "y_test = y_test.argmax(axis = 1)"
      ],
      "execution_count": 26,
      "outputs": []
    },
    {
      "cell_type": "code",
      "metadata": {
        "id": "6RjRRcTQCmO8",
        "colab_type": "code",
        "colab": {}
      },
      "source": [
        "from sklearn.metrics import r2_score\n",
        "r_squared = r2_score(y_test, y_pred)"
      ],
      "execution_count": 27,
      "outputs": []
    },
    {
      "cell_type": "code",
      "metadata": {
        "id": "uPAZETMJC0XW",
        "colab_type": "code",
        "colab": {
          "base_uri": "https://localhost:8080/",
          "height": 34
        },
        "outputId": "dc6dbee7-da07-444a-9f5f-c66f0ea51006"
      },
      "source": [
        "print(r_squared)"
      ],
      "execution_count": 28,
      "outputs": [
        {
          "output_type": "stream",
          "text": [
            "0.8957245998608212\n"
          ],
          "name": "stdout"
        }
      ]
    },
    {
      "cell_type": "code",
      "metadata": {
        "id": "D-NK1MiGFU2h",
        "colab_type": "code",
        "colab": {}
      },
      "source": [
        "model.save('finalversion.h5')"
      ],
      "execution_count": 29,
      "outputs": []
    },
    {
      "cell_type": "code",
      "metadata": {
        "id": "x8HLv5UYIkWc",
        "colab_type": "code",
        "colab": {}
      },
      "source": [
        ""
      ],
      "execution_count": null,
      "outputs": []
    }
  ]
}